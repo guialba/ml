{
 "cells": [
  {
   "cell_type": "markdown",
   "metadata": {},
   "source": [
    "# Desafio - Aula 1"
   ]
  },
  {
   "cell_type": "markdown",
   "metadata": {},
   "source": [
    "### 1) O corretor ortográfico possui uma ressalva: palavra com acento difere de palavra sem acento (cartão != cartao). Crie uma função que remova a acentuação de palavras e corrija adequadamente as palavras. Isso tem que valer tanto para o texto base quando para a frase a ser corrigida.\n",
    "\n",
    "### Dica: dê uma olhada no pacote unidecodedata\n"
   ]
  },
  {
   "cell_type": "code",
   "execution_count": null,
   "metadata": {},
   "outputs": [],
   "source": [
    "def removeAcentos(text):\n",
    "    from unidecode import unidecode\n",
    "    return unidecode(text)"
   ]
  },
  {
   "cell_type": "markdown",
   "metadata": {},
   "source": [
    "### 2) Modifique o algoritmo para que ele receba uma frase como input e a retorne corrigida.\n",
    "### Ex: “jogo de futbol” > “jogo de futebol”\n"
   ]
  },
  {
   "cell_type": "code",
   "execution_count": null,
   "metadata": {},
   "outputs": [],
   "source": [
    "def correction(sentece): \n",
    "    #import pdb; pdb.set_trace()\n",
    "    \"Most probable spelling correction for word.\"\n",
    "    return ' '.join([ max(candidates(removeAcentos(normalize(word))), key=P) for word in sentece.split(' ')])"
   ]
  },
  {
   "cell_type": "markdown",
   "metadata": {},
   "source": [
    "### 3) Ajuste o algoritmo do corretor para tratar tanto palavras escritas em maiúscula quanto em minúscula\n"
   ]
  },
  {
   "cell_type": "code",
   "execution_count": null,
   "metadata": {},
   "outputs": [],
   "source": [
    "def normalize(text): return text.lower()"
   ]
  }
 ],
 "metadata": {
  "kernelspec": {
   "display_name": "Python 3",
   "language": "python",
   "name": "python3"
  },
  "language_info": {
   "codemirror_mode": {
    "name": "ipython",
    "version": 3
   },
   "file_extension": ".py",
   "mimetype": "text/x-python",
   "name": "python",
   "nbconvert_exporter": "python",
   "pygments_lexer": "ipython3",
   "version": "3.6.4"
  }
 },
 "nbformat": 4,
 "nbformat_minor": 2
}
