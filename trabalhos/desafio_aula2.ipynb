{
 "cells": [
  {
   "cell_type": "markdown",
   "metadata": {},
   "source": [
    "# Desafio - Aula 2"
   ]
  },
  {
   "cell_type": "code",
   "execution_count": 2,
   "metadata": {},
   "outputs": [],
   "source": [
    "import pandas as pd\n",
    "df = pd.read_csv(\"https://s3.amazonaws.com/automl-example/produtos.csv\",\n",
    "                 delimiter=\";\", encoding='utf-8')"
   ]
  },
  {
   "cell_type": "markdown",
   "metadata": {},
   "source": [
    "### 1) utilizando o df acima carregado, faça:\n",
    "\n",
    "   ### -> Elimine linhas com valores nulos\n",
    "   ### -> Adicione uma nova coluna chamada texto, formada pela composição das colunas nome e descrição\n",
    "   ### -> Quantos Unigramas existem antes e depois de remover stopwords\n",
    "   ### -> Quantos Bigramas existem antes e depois de remover stopwords\n",
    "   ### -> Quantos Trigramas existem antes e depois de remover stopwords\n",
    "   ### -> Quantos verbos e Adverbios existem na nova coluna (utilize: from collections import Counter)\n",
    "   ### -> Quantos unigramas existem após aplicar Stemmer (utilize rslp)"
   ]
  },
  {
   "cell_type": "code",
   "execution_count": 3,
   "metadata": {},
   "outputs": [
    {
     "data": {
      "text/plain": [
       "nome         False\n",
       "descricao    False\n",
       "categoria    False\n",
       "dtype: bool"
      ]
     },
     "execution_count": 3,
     "metadata": {},
     "output_type": "execute_result"
    }
   ],
   "source": [
    "df.dropna(inplace=True)\n",
    "df.isna().any()"
   ]
  },
  {
   "cell_type": "code",
   "execution_count": 4,
   "metadata": {},
   "outputs": [],
   "source": [
    "df['texto'] = df['nome'] + ' ' + df['descricao']"
   ]
  },
  {
   "cell_type": "code",
   "execution_count": 11,
   "metadata": {},
   "outputs": [],
   "source": [
    "from unidecode import unidecode\n",
    "import re\n",
    "\n",
    "def clearText(text):    \n",
    "    ## Pontuação\n",
    "    text = [re.sub('[^A-Za-z ]+', '', word) for word in text]\n",
    "    ## Retirar numeros\n",
    "    text = [re.sub('[0-9]+', '', word) for word in text]\n",
    "    ## Retirar caracteres especiais e letras soltas\n",
    "    text = [unidecode(name) for name in text if name and len(name) > 1]\n",
    "    return text"
   ]
  },
  {
   "cell_type": "code",
   "execution_count": 12,
   "metadata": {},
   "outputs": [
    {
     "name": "stderr",
     "output_type": "stream",
     "text": [
      "[nltk_data] Downloading package stopwords to\n",
      "[nltk_data]     /home/guilherme/nltk_data...\n",
      "[nltk_data]   Package stopwords is already up-to-date!\n"
     ]
    }
   ],
   "source": [
    "import nltk\n",
    "nltk.download('stopwords')\n",
    "stops = nltk.corpus.stopwords.words('portuguese')\n",
    "stops = clearText(stops)"
   ]
  },
  {
   "cell_type": "code",
   "execution_count": 22,
   "metadata": {},
   "outputs": [],
   "source": [
    "from sklearn.feature_extraction.text import CountVectorizer\n",
    "\n",
    "def getNgram(words, n):\n",
    "    \n",
    "    vect = CountVectorizer(ngram_range=(n, n))\n",
    "    vect.fit(words)\n",
    "    text_vect = vect.transform(words)\n",
    "\n",
    "    print('Unigramas com stop words: ' + str(len(vect.get_feature_names())))\n",
    "    # pd.DataFrame(text_vect.A, columns=names)\n",
    "\n",
    "    ##########################################################################\n",
    "    vect = CountVectorizer(ngram_range=(n, n), stop_words=stops)\n",
    "    vect.fit(words)\n",
    "    text_vect = vect.transform(words)\n",
    "\n",
    "    print('Unigramas sem stop words: ' + str(len(vect.get_feature_names())))\n",
    "    \n",
    "    # pd.DataFrame(text_vect.A, columns=names)\n",
    "\n",
    "    return vect.get_feature_names()\n"
   ]
  },
  {
   "cell_type": "code",
   "execution_count": 25,
   "metadata": {},
   "outputs": [
    {
     "name": "stdout",
     "output_type": "stream",
     "text": [
      "Unigramas com stop words: 35604\n",
      "Unigramas sem stop words: 35450\n"
     ]
    }
   ],
   "source": [
    "words = df.texto\n",
    "words = clearText(words)\n",
    "\n",
    "ngram = getNgram(words, 1)"
   ]
  },
  {
   "cell_type": "code",
   "execution_count": 26,
   "metadata": {},
   "outputs": [
    {
     "name": "stdout",
     "output_type": "stream",
     "text": [
      "Unigramas com stop words: 149715\n",
      "Unigramas sem stop words: 135158\n"
     ]
    }
   ],
   "source": [
    "ngram = getNgram(words, 2)"
   ]
  },
  {
   "cell_type": "code",
   "execution_count": 27,
   "metadata": {},
   "outputs": [
    {
     "name": "stdout",
     "output_type": "stream",
     "text": [
      "Unigramas com stop words: 212541\n",
      "Unigramas sem stop words: 161895\n"
     ]
    }
   ],
   "source": [
    "ngram = getNgram(words, 3)"
   ]
  },
  {
   "cell_type": "markdown",
   "metadata": {},
   "source": [
    "### 2) crie um tagger baseado em expressões regulares:\n",
    "   ### -> crie uma variável que amazenará uma tupla (expressão, tag)\n",
    "   ### -> o tagger deverá capturar gerúndio (ando, endo, indo), plurais e números cardinais\n",
    "   ### -> utilize nltk.RegexpTagger(variável) para carregar seu tagger\n",
    "   ### -> apresente uma frase teste para cada tipo de expressão"
   ]
  },
  {
   "cell_type": "code",
   "execution_count": 116,
   "metadata": {},
   "outputs": [],
   "source": [
    "import re\n",
    "\n",
    "tags = [\n",
    "    (r'.+ando|endo|indo&', 'gerundio'),\n",
    "    (r'.+s$', 'plural'),\n",
    "    (r'[0-9]+', 'numeros')\n",
    "]"
   ]
  },
  {
   "cell_type": "code",
   "execution_count": 117,
   "metadata": {},
   "outputs": [],
   "source": [
    "import nltk\n",
    "tagger = nltk.RegexpTagger(tags)"
   ]
  },
  {
   "cell_type": "code",
   "execution_count": 118,
   "metadata": {},
   "outputs": [
    {
     "data": {
      "text/plain": [
       "[('Veja', None),\n",
       " ('os', 'plural'),\n",
       " ('2', 'numeros'),\n",
       " ('animais', 'plural'),\n",
       " ('andando', 'gerundio'),\n",
       " ('na', None),\n",
       " ('rua', None)]"
      ]
     },
     "execution_count": 118,
     "metadata": {},
     "output_type": "execute_result"
    }
   ],
   "source": [
    "text = \"Veja os 2 animais andando na rua\"\n",
    "tolk = nltk.word_tokenize(text)\n",
    "tagger.tag(tolk)"
   ]
  }
 ],
 "metadata": {
  "kernelspec": {
   "display_name": "Python 2",
   "language": "python",
   "name": "python2"
  },
  "language_info": {
   "codemirror_mode": {
    "name": "ipython",
    "version": 2
   },
   "file_extension": ".py",
   "mimetype": "text/x-python",
   "name": "python",
   "nbconvert_exporter": "python",
   "pygments_lexer": "ipython2",
   "version": "2.7.15rc1"
  }
 },
 "nbformat": 4,
 "nbformat_minor": 2
}
