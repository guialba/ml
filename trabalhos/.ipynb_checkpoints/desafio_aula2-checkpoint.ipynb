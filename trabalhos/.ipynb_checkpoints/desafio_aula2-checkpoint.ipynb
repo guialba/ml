{
 "cells": [
  {
   "cell_type": "markdown",
   "metadata": {},
   "source": [
    "# Desafio - Aula 2"
   ]
  },
  {
   "cell_type": "code",
   "execution_count": 1,
   "metadata": {},
   "outputs": [
    {
     "name": "stderr",
     "output_type": "stream",
     "text": [
      "[nltk_data] Downloading package rslp to /home/guilherme/nltk_data...\n",
      "[nltk_data]   Package rslp is already up-to-date!\n",
      "[nltk_data] Downloading package punkt to /home/guilherme/nltk_data...\n",
      "[nltk_data]   Package punkt is already up-to-date!\n",
      "[nltk_data] Downloading package stopwords to\n",
      "[nltk_data]     /home/guilherme/nltk_data...\n",
      "[nltk_data]   Package stopwords is already up-to-date!\n"
     ]
    }
   ],
   "source": [
    "import pandas as pd\n",
    "from unidecode import unidecode\n",
    "import re\n",
    "from nltk.tokenize import word_tokenize\n",
    "from sklearn.feature_extraction.text import CountVectorizer\n",
    "import nltk\n",
    "import spacy\n",
    "from collections import Counter\n",
    "from nltk.stem.rslp import RSLPStemmer\n",
    "nltk.download('rslp')\n",
    "nltk.download('punkt')\n",
    "nlp = spacy.load('pt_core_news_sm')\n",
    "nltk.download('stopwords')\n",
    "\n",
    "df = pd.read_csv(\"https://s3.amazonaws.com/automl-example/produtos.csv\",\n",
    "                 delimiter=\";\", encoding='utf-8')"
   ]
  },
  {
   "cell_type": "markdown",
   "metadata": {},
   "source": [
    "### 1) utilizando o df acima carregado, faça:\n",
    "\n",
    "   ### -> Elimine linhas com valores nulos\n",
    "   ### -> Adicione uma nova coluna chamada texto, formada pela composição das colunas nome e descrição\n",
    "   ### -> Quantos Unigramas existem antes e depois de remover stopwords\n",
    "   ### -> Quantos Bigramas existem antes e depois de remover stopwords\n",
    "   ### -> Quantos Trigramas existem antes e depois de remover stopwords\n",
    "   ### -> Quantos verbos e Adverbios existem na nova coluna (utilize: from collections import Counter)\n",
    "   ### -> Quantos unigramas existem após aplicar Stemmer (utilize rslp)"
   ]
  },
  {
   "cell_type": "code",
   "execution_count": 2,
   "metadata": {},
   "outputs": [
    {
     "data": {
      "text/plain": [
       "nome         False\n",
       "descricao    False\n",
       "categoria    False\n",
       "dtype: bool"
      ]
     },
     "execution_count": 2,
     "metadata": {},
     "output_type": "execute_result"
    }
   ],
   "source": [
    "df.dropna(inplace=True)\n",
    "df.isna().any()"
   ]
  },
  {
   "cell_type": "code",
   "execution_count": 3,
   "metadata": {},
   "outputs": [],
   "source": [
    "df['texto'] = df['nome'] + ' ' + df['descricao']"
   ]
  },
  {
   "cell_type": "code",
   "execution_count": 4,
   "metadata": {},
   "outputs": [],
   "source": [
    "stops = nltk.corpus.stopwords.words('portuguese')"
   ]
  },
  {
   "cell_type": "code",
   "execution_count": 5,
   "metadata": {},
   "outputs": [],
   "source": [
    "def clearText(text):    \n",
    "    ## Pontuação\n",
    "    text = [re.sub('[^A-Za-z ]+', '', word) for word in text]\n",
    "    ## Retirar numeros\n",
    "    text = [re.sub('[0-9]+', '', word) for word in text]\n",
    "    ## Retirar caracteres especiais e letras soltas\n",
    "    text = [unidecode(name) for name in text if name and len(name) > 1]\n",
    "    ## minuscolas\n",
    "    text = [name.lower() for name in text]\n",
    "        \n",
    "#     text = [word_tokenize(line.lower()) for line in text] # caixa baixa\n",
    "#     text = [[w for w in line if w not in stops]for line in text]# remove stop words\n",
    "#     text = [' '.join(line) for line in text]# remove stop words\n",
    "    \n",
    "    return text"
   ]
  },
  {
   "cell_type": "code",
   "execution_count": 6,
   "metadata": {},
   "outputs": [],
   "source": [
    "def getNgram(words, n):\n",
    "    \n",
    "    vect = CountVectorizer(ngram_range=(n, n))\n",
    "    vect.fit(words)\n",
    "    text_vect = vect.transform(words)\n",
    "\n",
    "    print('Unigramas com stop words: ' + str(len(vect.get_feature_names())))\n",
    "    # pd.DataFrame(text_vect.A, columns=names)\n",
    "\n",
    "    ##########################################################################\n",
    "    \n",
    "    vect = CountVectorizer(ngram_range=(n, n), stop_words=stops)\n",
    "    vect.fit(words)\n",
    "    text_vect = vect.transform(words)\n",
    "\n",
    "    print('Unigramas sem stop words: ' + str(len(vect.get_feature_names())))\n",
    "    \n",
    "    # pd.DataFrame(text_vect.A, columns=names)\n",
    "\n",
    "    return vect.get_feature_names()\n"
   ]
  },
  {
   "cell_type": "code",
   "execution_count": 7,
   "metadata": {},
   "outputs": [
    {
     "name": "stdout",
     "output_type": "stream",
     "text": [
      "Unigramas com stop words: 35604\n",
      "Unigramas sem stop words: 35465\n"
     ]
    }
   ],
   "source": [
    "words = df.texto\n",
    "words = clearText(words)\n",
    "\n",
    "ngram = getNgram(words, 1)"
   ]
  },
  {
   "cell_type": "code",
   "execution_count": 8,
   "metadata": {},
   "outputs": [
    {
     "name": "stdout",
     "output_type": "stream",
     "text": [
      "Unigramas com stop words: 149715\n",
      "Unigramas sem stop words: 136933\n"
     ]
    }
   ],
   "source": [
    "ngram = getNgram(words, 2)"
   ]
  },
  {
   "cell_type": "code",
   "execution_count": 9,
   "metadata": {},
   "outputs": [
    {
     "name": "stdout",
     "output_type": "stream",
     "text": [
      "Unigramas com stop words: 212541\n",
      "Unigramas sem stop words: 165079\n"
     ]
    }
   ],
   "source": [
    "ngram = getNgram(words, 3)"
   ]
  },
  {
   "cell_type": "markdown",
   "metadata": {},
   "source": [
    "### Separando as palavras unicas e aplicando Stemmer"
   ]
  },
  {
   "cell_type": "code",
   "execution_count": 10,
   "metadata": {},
   "outputs": [
    {
     "name": "stdout",
     "output_type": "stream",
     "text": [
      "518684\n",
      "35630\n",
      "35604\n"
     ]
    }
   ],
   "source": [
    "words = df.texto\n",
    "words = clearText(words)\n",
    "words = ' '.join(words)\n",
    "words = words.split(' ')\n",
    "words = [name for name in words if name]\n",
    "print(len(words))\n",
    "\n",
    "print(len(set(words)))\n",
    "# print(set(words))\n",
    "rslp = RSLPStemmer()\n",
    "stm = [rslp.stem(word) for word in set(words) if len(word)>1]\n",
    "\n",
    "print(len(stm))"
   ]
  },
  {
   "cell_type": "code",
   "execution_count": 13,
   "metadata": {},
   "outputs": [
    {
     "name": "stdout",
     "output_type": "stream",
     "text": [
      "1067\n",
      "7913\n"
     ]
    }
   ],
   "source": [
    "# ##############Estoura o limite de caracteres da lib spacy\n",
    "# words = df.texto\n",
    "# words = clearText(words)\n",
    "# words = ' '.join(words)\n",
    "# words = word_tokenize(words.lower())\n",
    "# words = [w for w in words if w not in stops]\n",
    "# words = [' '.join(line) for line in words]# join words\n",
    "\n",
    "# doc = nlp(' '.join(words))\n",
    "# c = Counter([token.pos_ for token in doc])\n",
    "###############\n",
    "\n",
    "doc = nlp(' '.join(stm))\n",
    "c = Counter([token.pos_ for token in doc])\n",
    "\n",
    "# c\n",
    "print(\"Numero de Adverbios: \" + c['ADV'])\n",
    "print(\"Numero de Verbos\" + c['VERB'])"
   ]
  },
  {
   "cell_type": "code",
   "execution_count": null,
   "metadata": {},
   "outputs": [],
   "source": [
    "words"
   ]
  },
  {
   "cell_type": "markdown",
   "metadata": {},
   "source": [
    "### 2) crie um tagger baseado em expressões regulares:\n",
    "   ### -> crie uma variável que amazenará uma tupla (expressão, tag)\n",
    "   ### -> o tagger deverá capturar gerúndio (ando, endo, indo), plurais e números cardinais\n",
    "   ### -> utilize nltk.RegexpTagger(variável) para carregar seu tagger\n",
    "   ### -> apresente uma frase teste para cada tipo de expressão"
   ]
  },
  {
   "cell_type": "code",
   "execution_count": null,
   "metadata": {},
   "outputs": [],
   "source": [
    "import re\n",
    "\n",
    "tags = [\n",
    "    (r'.+ando|endo|indo&', 'gerundio'),\n",
    "    (r'.+s$', 'plural'),\n",
    "    (r'[0-9]+', 'numeros')\n",
    "]"
   ]
  },
  {
   "cell_type": "code",
   "execution_count": null,
   "metadata": {},
   "outputs": [],
   "source": [
    "import nltk\n",
    "tagger = nltk.RegexpTagger(tags)"
   ]
  },
  {
   "cell_type": "code",
   "execution_count": null,
   "metadata": {},
   "outputs": [],
   "source": [
    "text = \"Veja os 2 animais andando na rua\"\n",
    "tolk = nltk.word_tokenize(text)\n",
    "tagger.tag(tolk)"
   ]
  }
 ],
 "metadata": {
  "kernelspec": {
   "display_name": "Python 2",
   "language": "python",
   "name": "python2"
  },
  "language_info": {
   "codemirror_mode": {
    "name": "ipython",
    "version": 2
   },
   "file_extension": ".py",
   "mimetype": "text/x-python",
   "name": "python",
   "nbconvert_exporter": "python",
   "pygments_lexer": "ipython2",
   "version": "2.7.15rc1"
  }
 },
 "nbformat": 4,
 "nbformat_minor": 2
}
