{
 "cells": [
  {
   "cell_type": "markdown",
   "metadata": {},
   "source": [
    "# Desafio - Aula 3"
   ]
  },
  {
   "cell_type": "markdown",
   "metadata": {},
   "source": [
    "## 1) Crie uma classe de tratamento de texto. A classe deverá conter:\n",
    "   ## -> remoção de números\n",
    "   ## -> passar o texto para caixa baixa\n",
    "   ## -> remoção de caracteres especiais\n",
    "   ## -> remoção de stop-words\n",
    "   ## -> Stemização/lemmatização (deve ser passado como parâmetro qual abordagem utilizar)"
   ]
  },
  {
   "cell_type": "code",
   "execution_count": 88,
   "metadata": {},
   "outputs": [],
   "source": [
    "# resposta 1\n",
    "import re\n",
    "import nltk\n",
    "import spacy\n",
    "from nltk.stem import PorterStemmer\n",
    "nlp = spacy.load(\"en_core_web_sm\")\n",
    "\n",
    "class textTreat:\n",
    "    def __init__(self, text, lem=True):\n",
    "        self._treatedText = text.lower()\n",
    "        print(self._treatedText)\n",
    "        self._treatedText = self.tiraNumero(self._treatedText)\n",
    "        print(self._treatedText)\n",
    "        self._treatedText = self.tiraCaracteresExpeciais(self._treatedText)\n",
    "        print(self._treatedText)\n",
    "        self._treatedText = self.tiraStopWords(self._treatedText)\n",
    "        print(self._treatedText)\n",
    "        if lem:\n",
    "            self._treatedText = self.applyLem(self._treatedText)\n",
    "        else:\n",
    "            self._treatedText = self.applyStem(self._treatedText)\n",
    "                \n",
    "    def tiraNumero(self, text):\n",
    "        regex = r\"[0-9]+\"\n",
    "        return \"\".join([re.sub(regex, '', word) for word in text])\n",
    "    def tiraCaracteresExpeciais(self, text):\n",
    "        regex = r\"[^a-zA-Z\\s]+\"\n",
    "        return \"\".join([re.sub(regex, '', word) for word in text])\n",
    "    def tiraStopWords(self, text):\n",
    "        nltk.download('stopwords')\n",
    "        stop = nltk.corpus.stopwords.words('english')\n",
    "        return \"\".join([word for word in text if word not in stop])\n",
    "    \n",
    "    def applyStem(self, text):\n",
    "        ps = PorterStemmer()\n",
    "        return \" \".join([ps.stem(word) for word in text.split(' ')])\n",
    "    def applyLem(self, text):\n",
    "        return \" \".join(\n",
    "            [\n",
    "                ' '.join( [lem.lemma_ for lem in nlp(unicode(word))] )\n",
    "                 for word in text.split(' ') \n",
    "            ]\n",
    "        )\n",
    "\n",
    "    def __str__(self):\n",
    "        return \"\".join(self._treatedText)"
   ]
  },
  {
   "cell_type": "code",
   "execution_count": 91,
   "metadata": {},
   "outputs": [
    {
     "name": "stdout",
     "output_type": "stream",
     "text": [
      "hello $#! people   whitespace 7331\n",
      "hello $#! people   whitespace \n",
      "hello  people   whitespace \n",
      "hell  peple   whepce \n",
      "hell  pepl   whepc \n"
     ]
    },
    {
     "name": "stderr",
     "output_type": "stream",
     "text": [
      "[nltk_data] Downloading package stopwords to\n",
      "[nltk_data]     /home/guilherme/nltk_data...\n",
      "[nltk_data]   Package stopwords is already up-to-date!\n"
     ]
    }
   ],
   "source": [
    "teste  = textTreat(\"Hello $#! People   Whitespace 7331\", False)\n",
    "print(teste)"
   ]
  },
  {
   "cell_type": "markdown",
   "metadata": {},
   "source": [
    "## 2) Refaça o exercício de aula (movie_review) realizando o tratamento do texto antes. Houve diferença? Descreva"
   ]
  },
  {
   "cell_type": "code",
   "execution_count": null,
   "metadata": {},
   "outputs": [],
   "source": [
    "# resposta 2"
   ]
  },
  {
   "cell_type": "markdown",
   "metadata": {},
   "source": [
    "## 3) Utilizando o dataset disposto no portal, faça:\n",
    "   ## -> extraia o dataset na pasta do notebook\n",
    "   ## -> crie uma função que leia o conteúdo de cada uma das pastas, amazene num dataframe com duas colunas (review, tag)\n",
    "   ## -> utilize a classe de tratamento de texto criada acima para tratar o texto\n",
    "   ## -> crie um pipeline de classificação de texto (countvectorizer/tfidfvectorizer,divisão em treino/teste,instância de modelo, fit e predict)\n",
    "   ## -> imprima o relatório de classificação\n",
    "   ## -> OBS: teste várias opções de stemming/lemmatizer"
   ]
  },
  {
   "cell_type": "code",
   "execution_count": null,
   "metadata": {},
   "outputs": [],
   "source": [
    "# resposta 3"
   ]
  }
 ],
 "metadata": {
  "kernelspec": {
   "display_name": "Python 2",
   "language": "python",
   "name": "python2"
  },
  "language_info": {
   "codemirror_mode": {
    "name": "ipython",
    "version": 2
   },
   "file_extension": ".py",
   "mimetype": "text/x-python",
   "name": "python",
   "nbconvert_exporter": "python",
   "pygments_lexer": "ipython2",
   "version": "2.7.15rc1"
  }
 },
 "nbformat": 4,
 "nbformat_minor": 2
}
