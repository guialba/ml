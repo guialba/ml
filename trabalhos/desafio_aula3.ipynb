{
 "cells": [
  {
   "cell_type": "markdown",
   "metadata": {},
   "source": [
    "# Desafio - Aula 3"
   ]
  },
  {
   "cell_type": "markdown",
   "metadata": {},
   "source": [
    "## 1) Crie uma classe de tratamento de texto. A classe deverá conter:\n",
    "   ## -> remoção de números\n",
    "   ## -> passar o texto para caixa baixa\n",
    "   ## -> remoção de caracteres especiais\n",
    "   ## -> remoção de stop-words\n",
    "   ## -> Stemização/lemmatização (deve ser passado como parâmetro qual abordagem utilizar)"
   ]
  },
  {
   "cell_type": "code",
   "execution_count": 21,
   "metadata": {},
   "outputs": [],
   "source": [
    "# resposta 1\n",
    "import re\n",
    "import nltk\n",
    "from nltk.stem import PorterStemmer\n",
    "\n",
    "class textTreat:\n",
    "    treatedText = None\n",
    "    def __ini__(self, text, par='Stem'):\n",
    "        self._treatedText = text.lower()\n",
    "        self._treatedText = self.tiraNumero(self._treatedText)\n",
    "        self._treatedText = self.tiraCaracteresExpeciais(self._treatedText)\n",
    "        self._treatedText = self.tiraStopWords(self._treatedText)\n",
    "        if par == 'Stem':\n",
    "            self._treatedText = self.applyStem(self._treatedText)\n",
    "        if par == 'Lem':\n",
    "            self._treatedText = self.applyLem(self._treatedText)\n",
    "        \n",
    "    def tiraNumero(self, text):\n",
    "        regex = r\"[0-9]+\"\n",
    "        text = re.sub(regex, '', numeros)\n",
    "        return text\n",
    "    def tiraCaracteresExpeciais(self, text):\n",
    "        regex = r\"[^a-zA-Z\\s]+\"\n",
    "        especs = re.findall(regex, text)\n",
    "        for n in especs:\n",
    "            text = text.replace(n, '')\n",
    "        return text\n",
    "    def tiraStopWords(self, text):\n",
    "        nltk.download('stopwords')\n",
    "        stop = nltk.corpus.stopwords.words('english')\n",
    "        for n in stop:\n",
    "            text = text.replace(n, '')\n",
    "        return text\n",
    "    def applyStem(self, text):\n",
    "        ps = PorterStemmer()\n",
    "        for word in text.split(' '):\n",
    "          text.replace(ps.stem(word))\n",
    "        return text\n",
    "    def applyLem(self, text):\n",
    "        \n",
    "        return text"
   ]
  },
  {
   "cell_type": "code",
   "execution_count": 38,
   "metadata": {},
   "outputs": [
    {
     "data": {
      "text/plain": [
       "'Hello  People   Whitespace 7331'"
      ]
     },
     "execution_count": 38,
     "metadata": {},
     "output_type": "execute_result"
    }
   ],
   "source": [
    "import re\n",
    "re.sub('[^A-Za-z0-9\\s]+', '', \"Hello $#! People   Whitespace 7331\")"
   ]
  },
  {
   "cell_type": "markdown",
   "metadata": {},
   "source": [
    "## 2) Refaça o exercício de aula (movie_review) realizando o tratamento do texto antes. Houve diferença? Descreva"
   ]
  },
  {
   "cell_type": "code",
   "execution_count": null,
   "metadata": {},
   "outputs": [],
   "source": [
    "# resposta 2"
   ]
  },
  {
   "cell_type": "markdown",
   "metadata": {},
   "source": [
    "## 3) Utilizando o dataset disposto no portal, faça:\n",
    "   ## -> extraia o dataset na pasta do notebook\n",
    "   ## -> crie uma função que leia o conteúdo de cada uma das pastas, amazene num dataframe com duas colunas (review, tag)\n",
    "   ## -> utilize a classe de tratamento de texto criada acima para tratar o texto\n",
    "   ## -> crie um pipeline de classificação de texto (countvectorizer/tfidfvectorizer,divisão em treino/teste,instância de modelo, fit e predict)\n",
    "   ## -> imprima o relatório de classificação\n",
    "   ## -> OBS: teste várias opções de stemming/lemmatizer"
   ]
  },
  {
   "cell_type": "code",
   "execution_count": null,
   "metadata": {},
   "outputs": [],
   "source": [
    "# resposta 3"
   ]
  }
 ],
 "metadata": {
  "kernelspec": {
   "display_name": "Python 3",
   "language": "python",
   "name": "python3"
  },
  "language_info": {
   "codemirror_mode": {
    "name": "ipython",
    "version": 3
   },
   "file_extension": ".py",
   "mimetype": "text/x-python",
   "name": "python",
   "nbconvert_exporter": "python",
   "pygments_lexer": "ipython3",
   "version": "3.7.3"
  }
 },
 "nbformat": 4,
 "nbformat_minor": 2
}
