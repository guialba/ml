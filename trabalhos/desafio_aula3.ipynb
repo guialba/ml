{
 "cells": [
  {
   "cell_type": "markdown",
   "metadata": {},
   "source": [
    "# Desafio - Aula 3"
   ]
  },
  {
   "cell_type": "markdown",
   "metadata": {},
   "source": [
    "## 1) Crie uma classe de tratamento de texto. A classe deverá conter:\n",
    "   ## -> remoção de números\n",
    "   ## -> passar o texto para caixa baixa\n",
    "   ## -> remoção de caracteres especiais\n",
    "   ## -> remoção de stop-words\n",
    "   ## -> Stemização/lemmatização (deve ser passado como parâmetro qual abordagem utilizar)"
   ]
  },
  {
   "cell_type": "code",
   "execution_count": 88,
   "metadata": {},
   "outputs": [],
   "source": [
    "# resposta 1\n",
    "import re\n",
    "import nltk\n",
    "import spacy\n",
    "from nltk.stem import PorterStemmer\n",
    "nlp = spacy.load(\"en_core_web_sm\")\n",
    "\n",
    "class textTreat:\n",
    "    def __init__(self, text, lem=True):\n",
    "        self._treatedText = text.lower()\n",
    "        print(self._treatedText)\n",
    "        self._treatedText = self.tiraNumero(self._treatedText)\n",
    "        print(self._treatedText)\n",
    "        self._treatedText = self.tiraCaracteresExpeciais(self._treatedText)\n",
    "        print(self._treatedText)\n",
    "        self._treatedText = self.tiraStopWords(self._treatedText)\n",
    "        print(self._treatedText)\n",
    "        if lem:\n",
    "            self._treatedText = self.applyLem(self._treatedText)\n",
    "        else:\n",
    "            self._treatedText = self.applyStem(self._treatedText)\n",
    "                \n",
    "    def tiraNumero(self, text):\n",
    "        regex = r\"[0-9]+\"\n",
    "        return \"\".join([re.sub(regex, '', word) for word in text])\n",
    "    def tiraCaracteresExpeciais(self, text):\n",
    "        regex = r\"[^a-zA-Z\\s]+\"\n",
    "        return \"\".join([re.sub(regex, '', word) for word in text])\n",
    "    def tiraStopWords(self, text):\n",
    "        nltk.download('stopwords')\n",
    "        stop = nltk.corpus.stopwords.words('english')\n",
    "        return \"\".join([word for word in text if word not in stop])\n",
    "    \n",
    "    def applyStem(self, text):\n",
    "        ps = PorterStemmer()\n",
    "        return \" \".join([ps.stem(word) for word in text.split(' ')])\n",
    "    def applyLem(self, text):\n",
    "        return \" \".join(\n",
    "            [\n",
    "                ' '.join( [lem.lemma_ for lem in nlp(unicode(word))] )\n",
    "                 for word in text.split(' ') \n",
    "            ]\n",
    "        )\n",
    "\n",
    "    def __str__(self):\n",
    "        return \"\".join(self._treatedText)"
   ]
  },
  {
   "cell_type": "code",
   "execution_count": 91,
   "metadata": {},
   "outputs": [
    {
     "name": "stdout",
     "output_type": "stream",
     "text": [
      "hello $#! people   whitespace 7331\n",
      "hello $#! people   whitespace \n",
      "hello  people   whitespace \n",
      "hell  peple   whepce \n",
      "hell  pepl   whepc \n"
     ]
    },
    {
     "name": "stderr",
     "output_type": "stream",
     "text": [
      "[nltk_data] Downloading package stopwords to\n",
      "[nltk_data]     /home/guilherme/nltk_data...\n",
      "[nltk_data]   Package stopwords is already up-to-date!\n"
     ]
    }
   ],
   "source": [
    "teste  = textTreat(\"Hello $#! People   Whitespace 7331\", False)\n",
    "print(teste)"
   ]
  },
  {
   "cell_type": "markdown",
   "metadata": {},
   "source": [
    "## 2) Refaça o exercício de aula (movie_review) realizando o tratamento do texto antes. Houve diferença? Descreva"
   ]
  },
  {
   "cell_type": "code",
   "execution_count": 5,
   "metadata": {},
   "outputs": [],
   "source": [
    "import pandas as pd\n",
    "import numpy as np\n",
    "from sklearn.feature_extraction.text import CountVectorizer\n",
    "from sklearn.feature_extraction.text import TfidfVectorizer\n",
    "from sklearn.naive_bayes import MultinomialNB\n",
    "from sklearn.model_selection import train_test_split\n",
    "from sklearn import metrics \n",
    "from sklearn.metrics import classification_report\n",
    "from sklearn.metrics import confusion_matrix"
   ]
  },
  {
   "cell_type": "code",
   "execution_count": 6,
   "metadata": {},
   "outputs": [
    {
     "data": {
      "text/html": [
       "<div>\n",
       "<style scoped>\n",
       "    .dataframe tbody tr th:only-of-type {\n",
       "        vertical-align: middle;\n",
       "    }\n",
       "\n",
       "    .dataframe tbody tr th {\n",
       "        vertical-align: top;\n",
       "    }\n",
       "\n",
       "    .dataframe thead th {\n",
       "        text-align: right;\n",
       "    }\n",
       "</style>\n",
       "<table border=\"1\" class=\"dataframe\">\n",
       "  <thead>\n",
       "    <tr style=\"text-align: right;\">\n",
       "      <th></th>\n",
       "      <th>text</th>\n",
       "      <th>tag</th>\n",
       "    </tr>\n",
       "  </thead>\n",
       "  <tbody>\n",
       "    <tr>\n",
       "      <th>0</th>\n",
       "      <td>films adapted from comic books have had plenty...</td>\n",
       "      <td>1</td>\n",
       "    </tr>\n",
       "    <tr>\n",
       "      <th>1</th>\n",
       "      <td>for starters , it was created by alan moore ( ...</td>\n",
       "      <td>1</td>\n",
       "    </tr>\n",
       "    <tr>\n",
       "      <th>2</th>\n",
       "      <td>to say moore and campbell thoroughly researche...</td>\n",
       "      <td>1</td>\n",
       "    </tr>\n",
       "    <tr>\n",
       "      <th>3</th>\n",
       "      <td>the book ( or \" graphic novel , \" if you will ...</td>\n",
       "      <td>1</td>\n",
       "    </tr>\n",
       "    <tr>\n",
       "      <th>4</th>\n",
       "      <td>in other words , don't dismiss this film becau...</td>\n",
       "      <td>1</td>\n",
       "    </tr>\n",
       "  </tbody>\n",
       "</table>\n",
       "</div>"
      ],
      "text/plain": [
       "                                                text  tag\n",
       "0  films adapted from comic books have had plenty...    1\n",
       "1  for starters , it was created by alan moore ( ...    1\n",
       "2  to say moore and campbell thoroughly researche...    1\n",
       "3  the book ( or \" graphic novel , \" if you will ...    1\n",
       "4  in other words , don't dismiss this film becau...    1"
      ]
     },
     "execution_count": 6,
     "metadata": {},
     "output_type": "execute_result"
    }
   ],
   "source": [
    "data = pd.read_csv('movie_review1.csv',index_col=0)\n",
    "data.head()"
   ]
  },
  {
   "cell_type": "code",
   "execution_count": 7,
   "metadata": {},
   "outputs": [],
   "source": [
    "vec = CountVectorizer()\n",
    "#vectfidf = TfidfVectorizer()\n",
    "vector = vec.fit_transform(data['text'])\n",
    "#print(vec.get_feature_names())\n",
    "#print(vector.toarray()) #apenas para CountVectorizer()\n",
    "X_train, X_test, y_train, y_test = train_test_split(vector, data['tag'], test_size=0.3, random_state=69)"
   ]
  },
  {
   "cell_type": "code",
   "execution_count": 8,
   "metadata": {},
   "outputs": [],
   "source": [
    "model = MultinomialNB().fit(X_train, y_train)\n",
    "predicted = model.predict(X_test)"
   ]
  },
  {
   "cell_type": "code",
   "execution_count": 9,
   "metadata": {},
   "outputs": [
    {
     "name": "stdout",
     "output_type": "stream",
     "text": [
      "              precision    recall  f1-score   support\n",
      "\n",
      "           0       0.70      0.71      0.71      9561\n",
      "           1       0.72      0.70      0.71      9855\n",
      "\n",
      "   micro avg       0.71      0.71      0.71     19416\n",
      "   macro avg       0.71      0.71      0.71     19416\n",
      "weighted avg       0.71      0.71      0.71     19416\n",
      "\n"
     ]
    }
   ],
   "source": [
    "print(classification_report(y_test, predicted)) #support = The number of occurrences of each label in y_true"
   ]
  },
  {
   "cell_type": "code",
   "execution_count": 10,
   "metadata": {},
   "outputs": [
    {
     "name": "stdout",
     "output_type": "stream",
     "text": [
      "0.7079213020189534\n"
     ]
    }
   ],
   "source": [
    "print(np.mean(predicted == y_test)) #acc"
   ]
  },
  {
   "cell_type": "markdown",
   "metadata": {},
   "source": [
    "### Repetindo Processo com tratamento de texto"
   ]
  },
  {
   "cell_type": "code",
   "execution_count": 11,
   "metadata": {},
   "outputs": [],
   "source": [
    "def TreatText(data):\n",
    "    #import pdb; pdb.set_trace()\n",
    "    stops = set(stopwords.words(\"english\"))  # melhora a performance convertendo num set\n",
    "    data['TITLE'] = [re.sub(\"[^a-zA-Z]\", \" \",data['TITLE'][i]) for i in range(len(data))] #mantém apenas letras (há números, links, etc.)     \n",
    "    data['TITLE'] = [word_tokenize(data['TITLE'][i].lower()) for i in range(len(data))] # caixa baixa\n",
    "    data['TITLE'] = [[w for w in data['TITLE'][i] if w not in stops]for i in range(len(data))]# remove stop words\n",
    "    return(data)"
   ]
  },
  {
   "cell_type": "code",
   "execution_count": null,
   "metadata": {},
   "outputs": [],
   "source": []
  },
  {
   "cell_type": "markdown",
   "metadata": {},
   "source": [
    "## 3) Utilizando o dataset disposto no portal, faça:\n",
    "   ## -> extraia o dataset na pasta do notebook\n",
    "   ## -> crie uma função que leia o conteúdo de cada uma das pastas, amazene num dataframe com duas colunas (review, tag)\n",
    "   ## -> utilize a classe de tratamento de texto criada acima para tratar o texto\n",
    "   ## -> crie um pipeline de classificação de texto (countvectorizer/tfidfvectorizer,divisão em treino/teste,instância de modelo, fit e predict)\n",
    "   ## -> imprima o relatório de classificação\n",
    "   ## -> OBS: teste várias opções de stemming/lemmatizer"
   ]
  },
  {
   "cell_type": "code",
   "execution_count": null,
   "metadata": {},
   "outputs": [],
   "source": [
    "# resposta 3"
   ]
  }
 ],
 "metadata": {
  "kernelspec": {
   "display_name": "Python 2",
   "language": "python",
   "name": "python2"
  },
  "language_info": {
   "codemirror_mode": {
    "name": "ipython",
    "version": 2
   },
   "file_extension": ".py",
   "mimetype": "text/x-python",
   "name": "python",
   "nbconvert_exporter": "python",
   "pygments_lexer": "ipython2",
   "version": "2.7.15rc1"
  }
 },
 "nbformat": 4,
 "nbformat_minor": 2
}
